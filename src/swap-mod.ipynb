{
 "cells": [
  {
   "cell_type": "code",
   "execution_count": null,
   "id": "c5963b63",
   "metadata": {},
   "outputs": [],
   "source": [
    "import pandas as pd\n",
    "\n",
    "# Function to check if a technology exists in the comment\n",
    "def check_tech(comment, tech):\n",
    "    if pd.isna(comment):\n",
    "        return \"No\"\n",
    "    return \"Yes\" if tech in comment else \"No\"\n",
    "\n",
    "# Read the dataset\n",
    "df = pd.read_excel='Sector Swap Main Report.xlsx'\n",
    "\n",
    "# Add new columns for each technology (L900, L1800, L2100, L2600, L2300)\n",
    "df['L900'] = df['Comment'].apply(lambda x: check_tech(x, 'L900'))\n",
    "df['L1800'] = df['Comment'].apply(lambda x: check_tech(x, 'L1800'))\n",
    "df['L2100'] = df['Comment'].apply(lambda x: check_tech(x, 'L2100'))\n",
    "df['L2600'] = df['Comment'].apply(lambda x: check_tech(x, 'L2600'))\n",
    "df['L2300'] = df['Comment'].apply(lambda x: check_tech(x, 'L2300'))\n",
    "\n",
    "# Add the 'Swap Transition' column\n",
    "df['Swap Transition'] = df['Swap'].apply(lambda x: x.split('for')[0].strip() if 'for' in x else x)\n",
    "\n",
    "# Group by 'Source_1' and 'Swap Transition', and aggregate by the max for the technology columns\n",
    "df_aggregated = df.groupby(['Source_1', 'Swap Transition']).agg({\n",
    "    'L900': 'max',\n",
    "    'L1800': 'max',\n",
    "    'L2100': 'max',\n",
    "    'L2600': 'max',\n",
    "    'L2300': 'max',\n",
    "    'Comment': 'first',\n",
    "    'LATITUDE': 'first',\n",
    "    'LONGITUDE': 'first',\n",
    "    'PROVINCE': 'first',\n",
    "    'REGION': 'first',\n",
    "    'BTS TECHNOLOGY Current': 'first',\n",
    "    'Priority': 'first'\n",
    "}).reset_index()\n",
    "\n",
    "# Save the aggregated DataFrame to a new Excel file\n",
    "df_aggregated.to_excel('swap_p1_aggregated_with_swap_transition.xlsx', index=False)\n"
   ]
  }
 ],
 "metadata": {
  "language_info": {
   "name": "python"
  }
 },
 "nbformat": 4,
 "nbformat_minor": 5
}
